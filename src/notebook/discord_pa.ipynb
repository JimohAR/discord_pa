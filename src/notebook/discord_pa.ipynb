{
 "cells": [
  {
   "cell_type": "markdown",
   "id": "8d8e1733-9bfe-4bc4-b099-545f6b7e402c",
   "metadata": {},
   "source": [
    "### objectives\n",
    "* send message at a given time\n",
    "\n",
    "* send message at intervals\n",
    "* send images"
   ]
  },
  {
   "cell_type": "markdown",
   "id": "b5c08fb4-cc06-445c-a686-9263c560ec01",
   "metadata": {},
   "source": [
    "<a href=\"https://colab.research.google.com/github/JimohAR/it_core_project1/blob/main/notebooks/task1_exp.ipynb\" target=\"_parent\"><img src=\"https://colab.research.google.com/assets/colab-badge.svg\" alt=\"Open In Colab\"/></a>"
   ]
  },
  {
   "cell_type": "code",
   "execution_count": 1,
   "id": "e9ab0e3e-34e9-4dd2-8ccf-78ace3fc475d",
   "metadata": {},
   "outputs": [],
   "source": [
    "import requests\n",
    "from json import dumps\n",
    "\n",
    "import datetime\n",
    "\n",
    "import os\n",
    "import sys\n",
    "\n",
    "import random"
   ]
  },
  {
   "cell_type": "code",
   "execution_count": 2,
   "id": "b3b2d3ed-61c1-4ed4-b9f3-6d92193c1e85",
   "metadata": {},
   "outputs": [],
   "source": [
    "url = \"https://discord.com/api/v8/channels/{}/messages\"\n",
    "\n",
    "tokens = {\n",
    "    \"main\" : \"ODkwNDU5Njc0Mjc1NjM1MjIw.Yb_o_Q.j8OR05ut75Y0b_9QITyuoAhU_Bg\",\n",
    "    \"one\" : \"ODkwNDU1NDI4OTYwNDg5NTMz.Yb_uww.M70-FoiaxNU59QIbEtaDvtus7S8\",\n",
    "    \"two\" : \"ODkwNDUwMTAzMjM4ODE1NzY1.Yb_wIw.TYOKdljlIDWz7atUd0BM57YskYA\",\n",
    "    \"three\" : \"ODkwNDc5MzI4Mzk4MjgyNzcy.Yb_w3A.fFkeH2YLCIU_-pIZ-3WiA9l9Tw4\",\n",
    "    \"four\" : \"ODkwODAwNzU0NjYxNjcwOTMz.Yb_xZA.lzhYNmyz3mvDzvbXl6vO7kdx1wI\"\n",
    "}\n",
    "token = tokens[\"main\"]\n",
    "\n",
    "channel_ids = {\n",
    "    \"element_general\" : 895560750494515231,\n",
    "    \"element_offtopic\" : 895560960520118292,\n",
    "    \"element_memes\" : 895564654967930910,\n",
    "    \"element_levelup\" : 895603334520668190,\n",
    "    \"CG_internal\" : 922747763484139541\n",
    "}\n",
    "channel_id = channel_ids[\"CG_internal\"]"
   ]
  },
  {
   "cell_type": "code",
   "execution_count": 3,
   "id": "7b6ef7c9-00df-4bdc-b696-5cab7533505c",
   "metadata": {},
   "outputs": [],
   "source": [
    "seed = random.seed = 0\n",
    "rand_time = random.choice([(\"22:\" + str(random.randint(47,59))), (\"23:0\" + str(random.randint(0,3)))])"
   ]
  },
  {
   "cell_type": "code",
   "execution_count": 4,
   "id": "66e5cff7-c430-47fa-8bdd-41b8144254d0",
   "metadata": {},
   "outputs": [],
   "source": [
    "def send_txt(txt = \"SHIFT ON\", time = rand_time, channel_id = channel_id, token = token):\n",
    "    sys.stdout.write(f\"{time} chosen\\n\")\n",
    "    payload = {\n",
    "        \"content\": txt,\n",
    "        \"tts\" : \"false\"\n",
    "    }\n",
    "    payload = dumps(payload)\n",
    "    \n",
    "    headers =  {\n",
    "        \"content-type\": \"application/json\",\n",
    "        \"user-agent\": \"Mozilla/5.0 (X11; Linux x86_64; rv:94.0.2) Gecko/20100101 Firefox/94.0.2\",\n",
    "        \"authorization\": token,\n",
    "    }\n",
    "    \n",
    "    while True:\n",
    "        if (datetime.time.fromisoformat(time) <= datetime.datetime.now().time()):\n",
    "            with requests.Session() as s:\n",
    "                r = s.post(url.format(channel_id), data = payload, headers = headers)\n",
    "                return (r.reason, r.raise_for_status)\n",
    "        else:\n",
    "            continue"
   ]
  },
  {
   "cell_type": "code",
   "execution_count": 5,
   "id": "0e742df5-7e48-4704-ac27-25b5cbc8a3a1",
   "metadata": {
    "tags": []
   },
   "outputs": [],
   "source": [
    "def send_image(path_img, time, channel_id = channel_id, txt = \"\", token = token):\n",
    "    payload = {\n",
    "        \"content\": txt,\n",
    "        \"tts\" : \"false\"\n",
    "    }\n",
    "    \n",
    "    headers = {\n",
    "    \"user-agent\": \"Mozilla/5.0 (X11; Linux x86_64; rv:94.0.2) Gecko/20100101 Firefox/94.0.2\",\n",
    "    \"authorization\": token,\n",
    "    }\n",
    "        \n",
    "    with open(path_img, 'rb') as img:\n",
    "        name_img= os.path.basename(path_img)\n",
    "        files= {\n",
    "            'image': (name_img, img, 'multipart/form-data', {'Expires': '0'})\n",
    "        }\n",
    "        \n",
    "        while True:\n",
    "            if (datetime.time.fromisoformat(time) <= datetime.datetime.now().time()):\n",
    "                with requests.Session() as s:\n",
    "                    r = s.post(url.format(channel_id), data = payload, files = files, headers = headers)\n",
    "                    return(r.reason, r.raise_for_status)\n",
    "            else:\n",
    "                continue"
   ]
  },
  {
   "cell_type": "code",
   "execution_count": 6,
   "id": "57e9e160-5453-476f-b0c5-6b1484d61868",
   "metadata": {},
   "outputs": [],
   "source": [
    "# send_image(\"C:/Users/abola/Pictures/day3.png\", \"20:40\", 894498733373419520, txt= \"okay\")"
   ]
  },
  {
   "cell_type": "code",
   "execution_count": 7,
   "id": "366e1137-ddd4-4726-a5f8-e5c31b58dfb3",
   "metadata": {},
   "outputs": [],
   "source": [
    "# test channel : 922306149750030346"
   ]
  },
  {
   "cell_type": "code",
   "execution_count": 8,
   "id": "f03800d8-33e1-4b95-9185-4f501400d233",
   "metadata": {},
   "outputs": [],
   "source": [
    "txt = \\\n",
    "\"\"\"SHIFT OFF \n",
    "\n",
    "CG REPORT \n",
    "\n",
    "1.  tanque#8645\n",
    "2. farzi#0880\n",
    "3. schwan#7978\n",
    "4. romeo#5093\n",
    "5. promise#6629 (main account)\n",
    "\n",
    "GROUP MODERATED : ELEMENT BLACK\n",
    "\n",
    "Beginning Message : https://discord.com/channels/893123687409156146/895560750494515231/923340337999654944\n",
    "\n",
    "Ending Message : https://discord.com/channels/893123687409156146/895560750494515231/923413999775801345\"\"\""
   ]
  },
  {
   "cell_type": "code",
   "execution_count": 9,
   "id": "a559d4cd-f496-4c5f-8a85-ac9435f96e56",
   "metadata": {},
   "outputs": [],
   "source": [
    "# send_txt(\"okay\")"
   ]
  },
  {
   "cell_type": "code",
   "execution_count": 10,
   "id": "0bbfe4ce-e150-436a-9bf8-d00105956050",
   "metadata": {},
   "outputs": [
    {
     "name": "stdout",
     "output_type": "stream",
     "text": [
      "08:14 chosen\n",
      "('OK', <bound method Response.raise_for_status of <Response [200]>>)\n",
      "('OK', <bound method Response.raise_for_status of <Response [200]>>)\n",
      "('OK', <bound method Response.raise_for_status of <Response [200]>>)\n",
      "yes"
     ]
    }
   ],
   "source": [
    "if __name__ == \"__main__\":\n",
    "    print(send_txt(txt, \"08:14\", 922306149750030346))\n",
    "    print(send_image(\"C:\\\\Users\\\\abola\\\\Pictures\\\\cg1.png\", \"08:14\", 922306149750030346))\n",
    "    print(send_image(\"C:\\\\Users\\\\abola\\\\Pictures\\\\cg2.png\", \"08:14\", 922306149750030346))\n",
    "    sys.stdout.write(\"yes\")"
   ]
  },
  {
   "cell_type": "code",
   "execution_count": null,
   "id": "b8d1f547-3b80-4a03-a443-ba281415356d",
   "metadata": {},
   "outputs": [],
   "source": []
  }
 ],
 "metadata": {
  "kernelspec": {
   "display_name": "Python 3 (ipykernel)",
   "language": "python",
   "name": "python3"
  },
  "language_info": {
   "codemirror_mode": {
    "name": "ipython",
    "version": 3
   },
   "file_extension": ".py",
   "mimetype": "text/x-python",
   "name": "python",
   "nbconvert_exporter": "python",
   "pygments_lexer": "ipython3",
   "version": "3.9.7"
  }
 },
 "nbformat": 4,
 "nbformat_minor": 5
}
