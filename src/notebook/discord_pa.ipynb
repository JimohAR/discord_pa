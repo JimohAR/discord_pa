{
 "cells": [
  {
   "cell_type": "markdown",
   "id": "8d8e1733-9bfe-4bc4-b099-545f6b7e402c",
   "metadata": {},
   "source": [
    "### objectives\n",
    "* send message at a given time\n",
    "\n",
    "* send message at intervals\n",
    "* send images"
   ]
  },
  {
   "cell_type": "code",
   "execution_count": 2,
   "id": "e9ab0e3e-34e9-4dd2-8ccf-78ace3fc475d",
   "metadata": {},
   "outputs": [],
   "source": [
    "import requests\n",
    "from json import dumps\n",
    "\n",
    "import datetime\n",
    "\n",
    "import os\n",
    "import sys\n",
    "\n",
    "import random"
   ]
  },
  {
   "cell_type": "code",
   "execution_count": 181,
   "id": "b3b2d3ed-61c1-4ed4-b9f3-6d92193c1e85",
   "metadata": {},
   "outputs": [],
   "source": [
    "url = \"https://discord.com/api/v8/channels/{}/messages\"\n",
    "\n",
    "tokens = {\n",
    "    \"main\" : \"ODkwNDU5Njc0Mjc1NjM1MjIw.Yb_o_Q.j8OR05ut75Y0b_9QITyuoAhU_Bg\",\n",
    "    \"one\" : \"ODkwNDU1NDI4OTYwNDg5NTMz.Yb_uww.M70-FoiaxNU59QIbEtaDvtus7S8\",\n",
    "    \"two\" : \"ODkwNDUwMTAzMjM4ODE1NzY1.Yb_wIw.TYOKdljlIDWz7atUd0BM57YskYA\",\n",
    "    \"three\" : \"ODkwNDc5MzI4Mzk4MjgyNzcy.Yb_w3A.fFkeH2YLCIU_-pIZ-3WiA9l9Tw4\",\n",
    "    \"four\" : \"ODkwODAwNzU0NjYxNjcwOTMz.Yb_xZA.lzhYNmyz3mvDzvbXl6vO7kdx1wI\"\n",
    "}\n",
    "token = tokens[\"main\"]\n",
    "\n",
    "channel_ids = {\n",
    "    \"element_general\" : 895560750494515231,\n",
    "    \"element_offtopic\" : 895560960520118292,\n",
    "    \"element_memes\" : 895564654967930910,\n",
    "    \"element_levelup\" : 895603334520668190,\n",
    "    \"CG_internal\" : 894498733373419520\n",
    "}\n",
    "channel_id = channel_ids[\"CG_internal\"]"
   ]
  },
  {
   "cell_type": "code",
   "execution_count": 207,
   "id": "7b6ef7c9-00df-4bdc-b696-5cab7533505c",
   "metadata": {},
   "outputs": [
    {
     "name": "stdout",
     "output_type": "stream",
     "text": [
      "22:56 chosen"
     ]
    }
   ],
   "source": [
    "seed = random.seed = 0\n",
    "rand_time = random.choice([(\"22:\" + str(random.randint(47,59))), (\"23:0\" + str(random.randint(0,3)))])"
   ]
  },
  {
   "cell_type": "code",
   "execution_count": 211,
   "id": "66e5cff7-c430-47fa-8bdd-41b8144254d0",
   "metadata": {},
   "outputs": [],
   "source": [
    "def send_txt(txt = \"SHIFT ON\", time = rand_time, channel_id = channel_id, token = token):\n",
    "    sys.stdout.write(f\"{time} chosen\\n\")\n",
    "    payload = {\n",
    "        \"content\": txt,\n",
    "        \"tts\" : \"false\"\n",
    "    }\n",
    "    payload = dumps(payload)\n",
    "    \n",
    "    headers =  {\n",
    "        \"content-type\": \"application/json\",\n",
    "        \"user-agent\": \"Mozilla/5.0 (X11; Linux x86_64; rv:94.0.2) Gecko/20100101 Firefox/94.0.2\",\n",
    "        \"authorization\": token,\n",
    "    }\n",
    "    \n",
    "    while True:\n",
    "        if (datetime.time.fromisoformat(time) <= datetime.datetime.now().time()):\n",
    "            with requests.Session() as s:\n",
    "                r = s.post(url.format(channel_id), data = payload, headers = headers)\n",
    "                return (r.reason, r.raise_for_status)\n",
    "        else:\n",
    "            continue"
   ]
  },
  {
   "cell_type": "code",
   "execution_count": 184,
   "id": "0e742df5-7e48-4704-ac27-25b5cbc8a3a1",
   "metadata": {},
   "outputs": [],
   "source": [
    "def send_image(path_img, time, channel_id = channel_id, txt = \"\", token = token):\n",
    "    payload = {\n",
    "        \"content\": txt,\n",
    "        \"tts\" : \"false\"\n",
    "    }\n",
    "    \n",
    "    headers = {\n",
    "    \"user-agent\": \"Mozilla/5.0 (X11; Linux x86_64; rv:94.0.2) Gecko/20100101 Firefox/94.0.2\",\n",
    "    \"authorization\": token,\n",
    "    }\n",
    "        \n",
    "    with open(path_img, 'rb') as img:\n",
    "        name_img= os.path.basename(path_img)\n",
    "        files= {\n",
    "            'image': (name_img, img, 'multipart/form-data', {'Expires': '0'})\n",
    "        }\n",
    "        \n",
    "        while True:\n",
    "            if (datetime.time.fromisoformat(time) <= datetime.datetime.now().time()):\n",
    "                with requests.Session() as s:\n",
    "                    r = s.post(url.format(channel_id), data = payload, files = files, headers = headers)\n",
    "                    return(r.reason, r.raise_for_status)\n",
    "            else:\n",
    "                continue"
   ]
  },
  {
   "cell_type": "code",
   "execution_count": 141,
   "id": "57e9e160-5453-476f-b0c5-6b1484d61868",
   "metadata": {},
   "outputs": [
    {
     "data": {
      "text/plain": [
       "('OK', <bound method Response.raise_for_status of <Response [200]>>)"
      ]
     },
     "execution_count": 141,
     "metadata": {},
     "output_type": "execute_result"
    }
   ],
   "source": [
    "# send_image(\"C:/Users/abola/Pictures/day3.png\", \"20:40\", 894498733373419520, txt= \"okay\")"
   ]
  },
  {
   "cell_type": "code",
   "execution_count": null,
   "id": "366e1137-ddd4-4726-a5f8-e5c31b58dfb3",
   "metadata": {},
   "outputs": [],
   "source": [
    "# test channel : 922306149750030346"
   ]
  },
  {
   "cell_type": "code",
   "execution_count": 210,
   "id": "a559d4cd-f496-4c5f-8a85-ac9435f96e56",
   "metadata": {},
   "outputs": [
    {
     "name": "stdout",
     "output_type": "stream",
     "text": [
      "22:51 chosen\n"
     ]
    },
    {
     "ename": "KeyboardInterrupt",
     "evalue": "",
     "output_type": "error",
     "traceback": [
      "\u001b[1;31m---------------------------------------------------------------------------\u001b[0m",
      "\u001b[1;31mKeyboardInterrupt\u001b[0m                         Traceback (most recent call last)",
      "\u001b[1;32m~\\AppData\\Local\\Temp/ipykernel_16532/2046629138.py\u001b[0m in \u001b[0;36m<module>\u001b[1;34m\u001b[0m\n\u001b[1;32m----> 1\u001b[1;33m \u001b[0msend_txt\u001b[0m\u001b[1;33m(\u001b[0m\u001b[1;34m\"okay\"\u001b[0m\u001b[1;33m)\u001b[0m\u001b[1;33m\u001b[0m\u001b[1;33m\u001b[0m\u001b[0m\n\u001b[0m",
      "\u001b[1;32m~\\AppData\\Local\\Temp/ipykernel_16532/1357857631.py\u001b[0m in \u001b[0;36msend_txt\u001b[1;34m(txt, time, channel_id, token)\u001b[0m\n\u001b[0;32m     14\u001b[0m \u001b[1;33m\u001b[0m\u001b[0m\n\u001b[0;32m     15\u001b[0m     \u001b[1;32mwhile\u001b[0m \u001b[1;32mTrue\u001b[0m\u001b[1;33m:\u001b[0m\u001b[1;33m\u001b[0m\u001b[1;33m\u001b[0m\u001b[0m\n\u001b[1;32m---> 16\u001b[1;33m         \u001b[1;32mif\u001b[0m \u001b[1;33m(\u001b[0m\u001b[0mdatetime\u001b[0m\u001b[1;33m.\u001b[0m\u001b[0mtime\u001b[0m\u001b[1;33m.\u001b[0m\u001b[0mfromisoformat\u001b[0m\u001b[1;33m(\u001b[0m\u001b[0mtime\u001b[0m\u001b[1;33m)\u001b[0m \u001b[1;33m<=\u001b[0m \u001b[0mdatetime\u001b[0m\u001b[1;33m.\u001b[0m\u001b[0mdatetime\u001b[0m\u001b[1;33m.\u001b[0m\u001b[0mnow\u001b[0m\u001b[1;33m(\u001b[0m\u001b[1;33m)\u001b[0m\u001b[1;33m.\u001b[0m\u001b[0mtime\u001b[0m\u001b[1;33m(\u001b[0m\u001b[1;33m)\u001b[0m\u001b[1;33m)\u001b[0m\u001b[1;33m:\u001b[0m\u001b[1;33m\u001b[0m\u001b[1;33m\u001b[0m\u001b[0m\n\u001b[0m\u001b[0;32m     17\u001b[0m             \u001b[1;32mwith\u001b[0m \u001b[0mrequests\u001b[0m\u001b[1;33m.\u001b[0m\u001b[0mSession\u001b[0m\u001b[1;33m(\u001b[0m\u001b[1;33m)\u001b[0m \u001b[1;32mas\u001b[0m \u001b[0ms\u001b[0m\u001b[1;33m:\u001b[0m\u001b[1;33m\u001b[0m\u001b[1;33m\u001b[0m\u001b[0m\n\u001b[0;32m     18\u001b[0m                 \u001b[0mr\u001b[0m \u001b[1;33m=\u001b[0m \u001b[0ms\u001b[0m\u001b[1;33m.\u001b[0m\u001b[0mpost\u001b[0m\u001b[1;33m(\u001b[0m\u001b[0murl\u001b[0m\u001b[1;33m.\u001b[0m\u001b[0mformat\u001b[0m\u001b[1;33m(\u001b[0m\u001b[0mchannel_id\u001b[0m\u001b[1;33m)\u001b[0m\u001b[1;33m,\u001b[0m \u001b[0mdata\u001b[0m \u001b[1;33m=\u001b[0m \u001b[0mpayload\u001b[0m\u001b[1;33m,\u001b[0m \u001b[0mheaders\u001b[0m \u001b[1;33m=\u001b[0m \u001b[0mheaders\u001b[0m\u001b[1;33m)\u001b[0m\u001b[1;33m\u001b[0m\u001b[1;33m\u001b[0m\u001b[0m\n",
      "\u001b[1;31mKeyboardInterrupt\u001b[0m: "
     ]
    }
   ],
   "source": [
    "send_txt(\"okay\")"
   ]
  },
  {
   "cell_type": "code",
   "execution_count": 52,
   "id": "eebebf55-ec2a-4e12-a8ea-057d921c143c",
   "metadata": {},
   "outputs": [],
   "source": [
    "r = requests.post(\"https://discord.com/api/v9/channels/922306149750030346/messages\", data = payload, headers= headers)"
   ]
  },
  {
   "cell_type": "code",
   "execution_count": null,
   "id": "49139f65-155e-43c5-ac0e-6927958339eb",
   "metadata": {},
   "outputs": [],
   "source": [
    "import requests\n",
    "\n",
    "api = 'http://localhost:8080/test'\n",
    "image_file = 'sample_image.png'\n",
    "\n",
    "with open(image_file, \"rb\") as f:\n",
    "    im_bytes = f.read()        \n",
    "im_b64 = base64.b64encode(im_bytes).decode(\"utf8\")\n",
    "\n",
    "headers = {'Content-type': 'application/json', 'Accept': 'text/plain'}\n",
    "  \n",
    "payload = json.dumps({\"image\": im_b64, \"other_key\": \"value\"})\n",
    "response = requests.post(api, data=payload, headers=headers)\n",
    "try:\n",
    "    data = response.json()     \n",
    "    print(data)                \n",
    "except requests.exceptions.RequestException:\n",
    "    print(response.text)"
   ]
  },
  {
   "cell_type": "code",
   "execution_count": null,
   "id": "77717580-dd5f-4fa6-96b7-548114bdf54d",
   "metadata": {},
   "outputs": [],
   "source": []
  },
  {
   "cell_type": "code",
   "execution_count": null,
   "id": "20c5c261-9f30-4bf3-b91e-d930e1e0ca34",
   "metadata": {},
   "outputs": [],
   "source": []
  }
 ],
 "metadata": {
  "kernelspec": {
   "display_name": "Python 3 (ipykernel)",
   "language": "python",
   "name": "python3"
  },
  "language_info": {
   "codemirror_mode": {
    "name": "ipython",
    "version": 3
   },
   "file_extension": ".py",
   "mimetype": "text/x-python",
   "name": "python",
   "nbconvert_exporter": "python",
   "pygments_lexer": "ipython3",
   "version": "3.9.7"
  }
 },
 "nbformat": 4,
 "nbformat_minor": 5
}
