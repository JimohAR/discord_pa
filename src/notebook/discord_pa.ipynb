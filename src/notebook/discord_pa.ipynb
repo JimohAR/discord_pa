{
 "cells": [
  {
   "cell_type": "markdown",
   "id": "8d8e1733-9bfe-4bc4-b099-545f6b7e402c",
   "metadata": {},
   "source": [
    "### objectives\n",
    "* send message at a given time ✅\n",
    "\n",
    "* send message at intervals\n",
    "* send images ✅"
   ]
  },
  {
   "cell_type": "code",
   "execution_count": 1,
   "id": "e9ab0e3e-34e9-4dd2-8ccf-78ace3fc475d",
   "metadata": {},
   "outputs": [],
   "source": [
    "import requests\n",
    "from json import dumps, loads\n",
    "\n",
    "import datetime\n",
    "\n",
    "import os\n",
    "import sys\n",
    "\n",
    "import random"
   ]
  },
  {
   "cell_type": "code",
   "execution_count": 2,
   "id": "605183e2-b932-438f-84fc-caca6f4dff14",
   "metadata": {},
   "outputs": [],
   "source": [
    "if (\"images\" in os.listdir()) or (\"src\" in os.listdir()):\n",
    "    # script running at parent directory\n",
    "    path = (os.path.abspath(os.getcwd() + \"/images\") + \"/\").replace(\"\\\\\", \"/\")\n",
    "else:\n",
    "    # script running at script location\n",
    "    path = (os.path.abspath(os.getcwd() + \"/../../\" + \"images\" ) + \"/\").replace(\"\\\\\", \"/\")"
   ]
  },
  {
   "cell_type": "code",
   "execution_count": 3,
   "id": "90c153a6-0a4e-4751-806b-d2cdebe2744d",
   "metadata": {},
   "outputs": [],
   "source": [
    "## CAT zone\n",
    "tz = datetime.timezone(datetime.timedelta(hours= 1))"
   ]
  },
  {
   "cell_type": "code",
   "execution_count": 4,
   "id": "b3b2d3ed-61c1-4ed4-b9f3-6d92193c1e85",
   "metadata": {},
   "outputs": [],
   "source": [
    "url = \"https://discord.com/api/v8/channels/{}/messages\"\n",
    "\n",
    "tokens = loads(os.environ.get(\"ACCOUNT_TOKENS\"))\n",
    "token = tokens[\"main\"]\n",
    "\n",
    "channel_ids = loads(os.environ.get(\"CHANNEL_IDS\"))\n",
    "channel_id = channel_ids[\"CG_shift\"]"
   ]
  },
  {
   "cell_type": "code",
   "execution_count": null,
   "id": "7b6ef7c9-00df-4bdc-b696-5cab7533505c",
   "metadata": {},
   "outputs": [],
   "source": [
    "seed = random.seed = 0\n",
    "def rand_time():\n",
    "    rand_time = random.choice([ # ratio ==> time b4 23:00 : time after 23:00 = 0.75 : 0.25\n",
    "                                (\"22:\" + str(random.randint(55,59))),\n",
    "                                (\"22:\" + str(random.randint(55,59))),\n",
    "                                (\"22:\" + str(random.randint(55,59))),\n",
    "                                (\"23:0\" + str(random.randint(0,6))),\n",
    "                              ])\n",
    "    return rand_time"
   ]
  },
  {
   "cell_type": "code",
   "execution_count": null,
   "id": "66e5cff7-c430-47fa-8bdd-41b8144254d0",
   "metadata": {},
   "outputs": [],
   "source": [
    "def send_txt(txt = \"SHIFT ON\", time = rand_time(), channel_id = channel_id, token = token):\n",
    "    print(f\"{time} chosen\\n\")\n",
    "    payload = {\n",
    "        \"content\": txt,\n",
    "        \"tts\" : \"false\"\n",
    "    }\n",
    "    payload = dumps(payload)\n",
    "   \n",
    "    headers =  {\n",
    "        \"content-type\": \"application/json\",\n",
    "        \"user-agent\": \"Mozilla/5.0 (X11; Linux x86_64; rv:94.0.2) Gecko/20100101 Firefox/94.0.2\",\n",
    "        \"authorization\": token,\n",
    "    }\n",
    "    \n",
    "    while True:\n",
    "        if (datetime.time.fromisoformat(time) <= datetime.datetime.now(tz= tz).time()):\n",
    "            with requests.Session() as s:\n",
    "                r = s.post(url.format(channel_id), data = payload, headers = headers)\n",
    "                return (r.reason, r.raise_for_status)\n",
    "        else:\n",
    "            continue"
   ]
  },
  {
   "cell_type": "code",
   "execution_count": null,
   "id": "0e742df5-7e48-4704-ac27-25b5cbc8a3a1",
   "metadata": {
    "tags": []
   },
   "outputs": [],
   "source": [
    "def send_image(path_img, time, channel_id = channel_id, txt = \"\", token = token):\n",
    "    payload = {\n",
    "        \"content\": txt,\n",
    "        \"tts\" : \"false\"\n",
    "    }\n",
    "    \n",
    "    headers = {\n",
    "    \"user-agent\": \"Mozilla/5.0 (X11; Linux x86_64; rv:94.0.2) Gecko/20100101 Firefox/94.0.2\",\n",
    "    \"authorization\": token,\n",
    "    }\n",
    "        \n",
    "    with open(path_img, 'rb') as img:\n",
    "        name_img= os.path.basename(path_img)\n",
    "        files= {\n",
    "            'image': (name_img, img, 'multipart/form-data', {'Expires': '0'})\n",
    "        }\n",
    "        \n",
    "        while True:\n",
    "            if (datetime.time.fromisoformat(time) <= datetime.datetime.now(tz= tz).time()):\n",
    "                with requests.Session() as s:\n",
    "                    r = s.post(url.format(channel_id), data = payload, files = files, headers = headers)\n",
    "                    return(r.reason, r.raise_for_status)\n",
    "            else:\n",
    "                continue"
   ]
  },
  {
   "cell_type": "code",
   "execution_count": null,
   "id": "0bbfe4ce-e150-436a-9bf8-d00105956050",
   "metadata": {},
   "outputs": [],
   "source": [
    "if __name__ == \"__main__\":\n",
    "    print(send_txt(time=\"18:50\", channel_id=922307829363265546))"
   ]
  }
 ],
 "metadata": {
  "kernelspec": {
   "display_name": "Python 3 (ipykernel)",
   "language": "python",
   "name": "python3"
  },
  "language_info": {
   "codemirror_mode": {
    "name": "ipython",
    "version": 3
   },
   "file_extension": ".py",
   "mimetype": "text/x-python",
   "name": "python",
   "nbconvert_exporter": "python",
   "pygments_lexer": "ipython3",
   "version": "3.9.7"
  }
 },
 "nbformat": 4,
 "nbformat_minor": 5
}
